{
 "cells": [
  {
   "cell_type": "markdown",
   "id": "8bce8a9e",
   "metadata": {},
   "source": [
    "## Overview"
   ]
  },
  {
   "cell_type": "markdown",
   "id": "f546c0e0",
   "metadata": {},
   "source": [
    "**In this project the main objective is to create a recommender system (Collaborative Filtering) for movie suggestions. The model aims to suggests some movies to a typical user based on the rating of the user on other movies as well as the ratings of the other users to different movies. In the next section, the dataset, mathematics, model and implementation will be explained thoroughly.**"
   ]
  },
  {
   "cell_type": "markdown",
   "id": "e8e4e2c8",
   "metadata": {},
   "source": [
    "## 1 - Notation"
   ]
  },
  {
   "cell_type": "markdown",
   "id": "944c5b65",
   "metadata": {},
   "source": [
    "I will be using the following notations for referencing and mathematics."
   ]
  },
  {
   "cell_type": "markdown",
   "id": "9ca6b987",
   "metadata": {},
   "source": [
    "| General Notation | Description | Python (if any) |\n",
    "|:------------------|:-----------------------------------------|:--------------|\n",
    "| $r(i,j)$         | scalar; = 1 if user j rated movie i, 0 otherwise | |\n",
    "| $y(i,j)$         | scalar; = rating given by user j on movie i (if r(i,j) = 1 is defined) | |\n",
    "| $\\mathbf{w}^{(j)}$ | vector; parameters for user j | |\n",
    "| $b^{(j)}$        | scalar; parameter for user j | |\n",
    "| $\\mathbf{x}^{(i)}$ | vector; feature ratings for movie i | |\n",
    "| $n_u$            | number of users | num_users |\n",
    "| $n_m$            | number of movies | num_movies |\n",
    "| $n$              | number of features | num_features |\n",
    "| $\\mathbf{X}$     | matrix of vectors $\\mathbf{x}^{(i)}$ | X |\n",
    "| $\\mathbf{W}$     | matrix of vectors $\\mathbf{w}^{(j)}$ | W |\n",
    "| $\\mathbf{b}$     | vector of bias parameters $b^{(j)}$ | b |\n",
    "| $\\mathbf{R}$     | matrix of elements $r(i,j)$ | R |\n"
   ]
  },
  {
   "cell_type": "markdown",
   "id": "e6882ea5",
   "metadata": {},
   "source": [
    "## 2 - Recommender Systems\n",
    "In this lab, I will implement the collaborative filtering learning algorithm and apply it to a dataset of movie ratings.\n",
    "The goal of a collaborative filtering recommender system is to generate two vectors: For each user, a 'parameter vector' that embodies the movie tastes of a user. For each movie, a feature vector of the same size which embodies some description of the movie. The dot product of the two vectors plus the bias term should produce an estimate of the rating the user might give to that movie.\n",
    "\n",
    "The diagram below details how these vectors are learned."
   ]
  },
  {
   "cell_type": "markdown",
   "id": "690ecf6c",
   "metadata": {},
   "source": [
    "<figure>\n",
    "   <img src=\"ColabFilterLearn.PNG\"  style=\"width:740px;height:250px;\" >\n",
    "</figure>"
   ]
  },
  {
   "cell_type": "markdown",
   "id": "f12c03e3",
   "metadata": {},
   "source": [
    "Existing ratings are provided in matrix form as shown. $Y$ contains ratings; 0.5 to 5 inclusive in 0.5 steps. 0 if the movie has not been rated. $R$ has a 1 where movies have been rated. Movies are in rows, users in columns. Each user has a parameter vector $w^{user}$ and bias. Each movie has a feature vector $x^{movie}$. These vectors are simultaneously learned by using the existing user/movie ratings as training data. One training example is shown above: $\\mathbf{w}^{(1)} \\cdot \\mathbf{x}^{(1)} + b^{(1)} = 4$. It is worth noting that the feature vector $x^{movie}$ must satisfy all the users while the user vector $w^{user}$ must satisfy all the movies. This is the source of the name of this approach - all the users collaborate to generate the rating set. "
   ]
  },
  {
   "cell_type": "markdown",
   "id": "4fe593e5",
   "metadata": {},
   "source": [
    "<figure>\n",
    "   <img src=\"ColabFilterUse.PNG\"  style=\"width:640px;height:250px;\" >\n",
    "</figure>"
   ]
  },
  {
   "cell_type": "markdown",
   "id": "acb0f0ac",
   "metadata": {},
   "source": [
    "Once the feature vectors and parameters are learned, they can be used to predict how a user might rate an unrated movie. This is shown in the diagram above. The equation is an example of predicting a rating for user one on movie zero."
   ]
  },
  {
   "cell_type": "markdown",
   "id": "c5372751",
   "metadata": {},
   "source": [
    "In this project, I will implement the function cofiCostFunc that computes the collaborative filtering objective function. After implementing the objective function, I will use a TensorFlow custom training loop to learn the parameters for collaborative filtering. The first step is to detail the data set and data structures that will be used in the project."
   ]
  },
  {
   "cell_type": "markdown",
   "id": "dc7fb316",
   "metadata": {},
   "source": [
    "## 3 - Movie ratings dataset \n",
    "The data set is derived from the [MovieLens \"ml-latest-small\"](https://grouplens.org/datasets/movielens/latest/) dataset.   \n",
    "\n",
    "The original dataset has  9000 movies rated by 600 users. The dataset has been reduced in size to focus on movies from the years since 2000. This dataset consists of ratings on a scale of 0.5 to 5 in 0.5 step increments. The reduced dataset has $n_u = 443$ users, and $n_m= 4778$ movies. \n",
    "\n",
    "Below, I will load the movie dataset into the variables $Y$ and $R$.\n",
    "\n",
    "The matrix $Y$ (a  $n_m \\times n_u$ matrix) stores the ratings $y^{(i,j)}$. The matrix $R$ is an binary-valued indicator matrix, where $R(i,j) = 1$ if user $j$ gave a rating to movie $i$, and $R(i,j)=0$ otherwise. \n",
    "\n",
    "Throughout this part of the project, I will also be working with the\n",
    "matrices, $\\mathbf{X}$, $\\mathbf{W}$ and $\\mathbf{b}$: \n",
    "\n",
    "$$\\mathbf{X} = \n",
    "\\begin{bmatrix}\n",
    "--- (\\mathbf{x}^{(0)})^T --- \\\\\n",
    "--- (\\mathbf{x}^{(1)})^T --- \\\\\n",
    "\\vdots \\\\\n",
    "--- (\\mathbf{x}^{(n_m-1)})^T --- \\\\\n",
    "\\end{bmatrix} , \\quad\n",
    "\\mathbf{W} = \n",
    "\\begin{bmatrix}\n",
    "--- (\\mathbf{w}^{(0)})^T --- \\\\\n",
    "--- (\\mathbf{w}^{(1)})^T --- \\\\\n",
    "\\vdots \\\\\n",
    "--- (\\mathbf{w}^{(n_u-1)})^T --- \\\\\n",
    "\\end{bmatrix},\\quad\n",
    "\\mathbf{ b} = \n",
    "\\begin{bmatrix}\n",
    " b^{(0)}  \\\\\n",
    " b^{(1)} \\\\\n",
    "\\vdots \\\\\n",
    "b^{(n_u-1)} \\\\\n",
    "\\end{bmatrix}\\quad\n",
    "$$ \n",
    "\n",
    "The $i$-th row of $\\mathbf{X}$ corresponds to the\n",
    "feature vector $x^{(i)}$ for the $i$-th movie, and the $j$-th row of\n",
    "$\\mathbf{W}$ corresponds to one parameter vector $\\mathbf{w}^{(j)}$, for the\n",
    "$j$-th user. Both $x^{(i)}$ and $\\mathbf{w}^{(j)}$ are $n$-dimensional\n",
    "vectors. For the purposes of this project, I will use $n=10$, and\n",
    "therefore, $\\mathbf{x}^{(i)}$ and $\\mathbf{w}^{(j)}$ have 10 elements.\n",
    "Correspondingly, $\\mathbf{X}$ is a\n",
    "$n_m \\times 10$ matrix and $\\mathbf{W}$ is a $n_u \\times 10$ matrix.\n",
    "\n",
    "I will start by loading the movie ratings dataset to understand the structure of the data.\n",
    "I will load $Y$ and $R$ with the movie dataset.  \n",
    "I'll also load $\\mathbf{X}$, $\\mathbf{W}$, and $\\mathbf{b}$ with pre-computed values. These values will be learned later in the project, but I'll use pre-computed values to develop the cost model."
   ]
  },
  {
   "cell_type": "markdown",
   "id": "106f5943",
   "metadata": {},
   "source": [
    "### Imports"
   ]
  },
  {
   "cell_type": "code",
   "execution_count": 44,
   "id": "a98cb38d",
   "metadata": {},
   "outputs": [],
   "source": [
    "import numpy as np\n",
    "import pandas as pd\n",
    "import tensorflow as tf\n",
    "from keras.optimizers import Adam\n",
    "import warnings\n",
    "\n",
    "warnings.filterwarnings('ignore')"
   ]
  },
  {
   "cell_type": "code",
   "execution_count": 46,
   "id": "3e4ef7e1",
   "metadata": {},
   "outputs": [
    {
     "name": "stdout",
     "output_type": "stream",
     "text": [
      "Y: (4778, 443)\n",
      "R: (4778, 443)\n",
      "W: (443, 10)\n",
      "X: (4778, 10)\n",
      "b: (1, 443)\n",
      "Num of features: 10\n",
      "Num of movies: 4778\n",
      "Num of users: 443\n"
     ]
    }
   ],
   "source": [
    "#Load data\n",
    "movie_titles = pd.read_csv('small_movie_list.csv', usecols=[3])\n",
    "\n",
    "Y = pd.read_csv('small_movies_Y.csv', names=[f'user{x}' for x in range(443)])\n",
    "Y = movie_titles.join(Y)\n",
    "\n",
    "R = pd.read_csv('small_movies_R.csv', names=[f'user{x}' for x in range(443)])\n",
    "R = movie_titles.join(R)\n",
    "\n",
    "W = pd.read_csv('small_movies_W.csv', names=[f'w_{x}' for x in range(10)])\n",
    "W.index = [f'user{x}' for x in range(443)]\n",
    "\n",
    "X = pd.read_csv('small_movies_X.csv', names=[f'feature_{x}' for x in range(10)])\n",
    "X = movie_titles.join(X)\n",
    "\n",
    "b = pd.read_csv('small_movies_b.csv', names=[f'b_movie{x}' for x in range(443)])\n",
    "\n",
    "print(f'Y: {Y.iloc[:, 1:].shape}')\n",
    "print(f'R: {R.iloc[:, 1:].shape}')\n",
    "print(f'W: {W.shape}')\n",
    "print(f'X: {X.iloc[:, 1:].shape}')\n",
    "print(f'b: {b.shape}')\n",
    "\n",
    "print(f\"Num of features: {X.iloc[:, 1:].shape[1]}\")\n",
    "print(f\"Num of movies: {Y.iloc[:, 1:].shape[0]}\")\n",
    "print(f\"Num of users: {W.shape[0]}\")"
   ]
  },
  {
   "cell_type": "code",
   "execution_count": 47,
   "id": "e90eb709",
   "metadata": {
    "scrolled": false
   },
   "outputs": [
    {
     "data": {
      "text/html": [
       "<div>\n",
       "<style scoped>\n",
       "    .dataframe tbody tr th:only-of-type {\n",
       "        vertical-align: middle;\n",
       "    }\n",
       "\n",
       "    .dataframe tbody tr th {\n",
       "        vertical-align: top;\n",
       "    }\n",
       "\n",
       "    .dataframe thead th {\n",
       "        text-align: right;\n",
       "    }\n",
       "</style>\n",
       "<table border=\"1\" class=\"dataframe\">\n",
       "  <thead>\n",
       "    <tr style=\"text-align: right;\">\n",
       "      <th></th>\n",
       "      <th>title</th>\n",
       "      <th>user0</th>\n",
       "      <th>user1</th>\n",
       "      <th>user2</th>\n",
       "      <th>user3</th>\n",
       "      <th>user4</th>\n",
       "      <th>user5</th>\n",
       "      <th>user6</th>\n",
       "      <th>user7</th>\n",
       "      <th>user8</th>\n",
       "      <th>...</th>\n",
       "      <th>user433</th>\n",
       "      <th>user434</th>\n",
       "      <th>user435</th>\n",
       "      <th>user436</th>\n",
       "      <th>user437</th>\n",
       "      <th>user438</th>\n",
       "      <th>user439</th>\n",
       "      <th>user440</th>\n",
       "      <th>user441</th>\n",
       "      <th>user442</th>\n",
       "    </tr>\n",
       "  </thead>\n",
       "  <tbody>\n",
       "    <tr>\n",
       "      <th>0</th>\n",
       "      <td>Yards, The (2000)</td>\n",
       "      <td>0.0</td>\n",
       "      <td>0.0</td>\n",
       "      <td>0.0</td>\n",
       "      <td>0.0</td>\n",
       "      <td>0.0</td>\n",
       "      <td>0.0</td>\n",
       "      <td>0.0</td>\n",
       "      <td>0.0</td>\n",
       "      <td>0.0</td>\n",
       "      <td>...</td>\n",
       "      <td>0.0</td>\n",
       "      <td>0.0</td>\n",
       "      <td>0.0</td>\n",
       "      <td>0.0</td>\n",
       "      <td>0.0</td>\n",
       "      <td>0.0</td>\n",
       "      <td>0.0</td>\n",
       "      <td>0.0</td>\n",
       "      <td>0.0</td>\n",
       "      <td>0.0</td>\n",
       "    </tr>\n",
       "    <tr>\n",
       "      <th>1</th>\n",
       "      <td>Next Friday (2000)</td>\n",
       "      <td>0.0</td>\n",
       "      <td>0.0</td>\n",
       "      <td>0.0</td>\n",
       "      <td>0.0</td>\n",
       "      <td>0.0</td>\n",
       "      <td>0.0</td>\n",
       "      <td>0.0</td>\n",
       "      <td>0.0</td>\n",
       "      <td>0.0</td>\n",
       "      <td>...</td>\n",
       "      <td>0.0</td>\n",
       "      <td>0.0</td>\n",
       "      <td>0.0</td>\n",
       "      <td>0.0</td>\n",
       "      <td>0.0</td>\n",
       "      <td>0.0</td>\n",
       "      <td>0.0</td>\n",
       "      <td>0.0</td>\n",
       "      <td>0.0</td>\n",
       "      <td>0.0</td>\n",
       "    </tr>\n",
       "    <tr>\n",
       "      <th>2</th>\n",
       "      <td>Supernova (2000)</td>\n",
       "      <td>0.0</td>\n",
       "      <td>0.0</td>\n",
       "      <td>0.0</td>\n",
       "      <td>0.0</td>\n",
       "      <td>0.0</td>\n",
       "      <td>0.0</td>\n",
       "      <td>0.0</td>\n",
       "      <td>0.0</td>\n",
       "      <td>0.0</td>\n",
       "      <td>...</td>\n",
       "      <td>0.0</td>\n",
       "      <td>2.0</td>\n",
       "      <td>0.0</td>\n",
       "      <td>0.0</td>\n",
       "      <td>0.0</td>\n",
       "      <td>0.0</td>\n",
       "      <td>0.0</td>\n",
       "      <td>0.0</td>\n",
       "      <td>0.0</td>\n",
       "      <td>0.0</td>\n",
       "    </tr>\n",
       "    <tr>\n",
       "      <th>3</th>\n",
       "      <td>Down to You (2000)</td>\n",
       "      <td>0.0</td>\n",
       "      <td>0.0</td>\n",
       "      <td>0.0</td>\n",
       "      <td>0.0</td>\n",
       "      <td>0.0</td>\n",
       "      <td>0.0</td>\n",
       "      <td>0.0</td>\n",
       "      <td>0.0</td>\n",
       "      <td>0.0</td>\n",
       "      <td>...</td>\n",
       "      <td>0.0</td>\n",
       "      <td>0.0</td>\n",
       "      <td>0.0</td>\n",
       "      <td>0.0</td>\n",
       "      <td>0.0</td>\n",
       "      <td>0.0</td>\n",
       "      <td>0.0</td>\n",
       "      <td>0.0</td>\n",
       "      <td>0.0</td>\n",
       "      <td>0.0</td>\n",
       "    </tr>\n",
       "    <tr>\n",
       "      <th>4</th>\n",
       "      <td>Scream 3 (2000)</td>\n",
       "      <td>5.0</td>\n",
       "      <td>0.0</td>\n",
       "      <td>0.0</td>\n",
       "      <td>0.0</td>\n",
       "      <td>0.0</td>\n",
       "      <td>0.0</td>\n",
       "      <td>0.0</td>\n",
       "      <td>0.0</td>\n",
       "      <td>0.0</td>\n",
       "      <td>...</td>\n",
       "      <td>0.0</td>\n",
       "      <td>0.0</td>\n",
       "      <td>0.0</td>\n",
       "      <td>0.0</td>\n",
       "      <td>1.0</td>\n",
       "      <td>0.0</td>\n",
       "      <td>0.0</td>\n",
       "      <td>4.0</td>\n",
       "      <td>3.0</td>\n",
       "      <td>3.0</td>\n",
       "    </tr>\n",
       "  </tbody>\n",
       "</table>\n",
       "<p>5 rows × 444 columns</p>\n",
       "</div>"
      ],
      "text/plain": [
       "                title  user0  user1  user2  user3  user4  user5  user6  user7  \\\n",
       "0   Yards, The (2000)    0.0    0.0    0.0    0.0    0.0    0.0    0.0    0.0   \n",
       "1  Next Friday (2000)    0.0    0.0    0.0    0.0    0.0    0.0    0.0    0.0   \n",
       "2    Supernova (2000)    0.0    0.0    0.0    0.0    0.0    0.0    0.0    0.0   \n",
       "3  Down to You (2000)    0.0    0.0    0.0    0.0    0.0    0.0    0.0    0.0   \n",
       "4     Scream 3 (2000)    5.0    0.0    0.0    0.0    0.0    0.0    0.0    0.0   \n",
       "\n",
       "   user8  ...  user433  user434  user435  user436  user437  user438  user439  \\\n",
       "0    0.0  ...      0.0      0.0      0.0      0.0      0.0      0.0      0.0   \n",
       "1    0.0  ...      0.0      0.0      0.0      0.0      0.0      0.0      0.0   \n",
       "2    0.0  ...      0.0      2.0      0.0      0.0      0.0      0.0      0.0   \n",
       "3    0.0  ...      0.0      0.0      0.0      0.0      0.0      0.0      0.0   \n",
       "4    0.0  ...      0.0      0.0      0.0      0.0      1.0      0.0      0.0   \n",
       "\n",
       "   user440  user441  user442  \n",
       "0      0.0      0.0      0.0  \n",
       "1      0.0      0.0      0.0  \n",
       "2      0.0      0.0      0.0  \n",
       "3      0.0      0.0      0.0  \n",
       "4      4.0      3.0      3.0  \n",
       "\n",
       "[5 rows x 444 columns]"
      ]
     },
     "execution_count": 47,
     "metadata": {},
     "output_type": "execute_result"
    }
   ],
   "source": [
    "Y.head()"
   ]
  },
  {
   "cell_type": "code",
   "execution_count": 48,
   "id": "6b18b48c",
   "metadata": {
    "scrolled": true
   },
   "outputs": [
    {
     "data": {
      "text/html": [
       "<div>\n",
       "<style scoped>\n",
       "    .dataframe tbody tr th:only-of-type {\n",
       "        vertical-align: middle;\n",
       "    }\n",
       "\n",
       "    .dataframe tbody tr th {\n",
       "        vertical-align: top;\n",
       "    }\n",
       "\n",
       "    .dataframe thead th {\n",
       "        text-align: right;\n",
       "    }\n",
       "</style>\n",
       "<table border=\"1\" class=\"dataframe\">\n",
       "  <thead>\n",
       "    <tr style=\"text-align: right;\">\n",
       "      <th></th>\n",
       "      <th>title</th>\n",
       "      <th>user0</th>\n",
       "      <th>user1</th>\n",
       "      <th>user2</th>\n",
       "      <th>user3</th>\n",
       "      <th>user4</th>\n",
       "      <th>user5</th>\n",
       "      <th>user6</th>\n",
       "      <th>user7</th>\n",
       "      <th>user8</th>\n",
       "      <th>...</th>\n",
       "      <th>user433</th>\n",
       "      <th>user434</th>\n",
       "      <th>user435</th>\n",
       "      <th>user436</th>\n",
       "      <th>user437</th>\n",
       "      <th>user438</th>\n",
       "      <th>user439</th>\n",
       "      <th>user440</th>\n",
       "      <th>user441</th>\n",
       "      <th>user442</th>\n",
       "    </tr>\n",
       "  </thead>\n",
       "  <tbody>\n",
       "    <tr>\n",
       "      <th>0</th>\n",
       "      <td>Yards, The (2000)</td>\n",
       "      <td>0</td>\n",
       "      <td>0</td>\n",
       "      <td>0</td>\n",
       "      <td>0</td>\n",
       "      <td>0</td>\n",
       "      <td>0</td>\n",
       "      <td>0</td>\n",
       "      <td>0</td>\n",
       "      <td>0</td>\n",
       "      <td>...</td>\n",
       "      <td>0</td>\n",
       "      <td>0</td>\n",
       "      <td>0</td>\n",
       "      <td>0</td>\n",
       "      <td>0</td>\n",
       "      <td>0</td>\n",
       "      <td>0</td>\n",
       "      <td>0</td>\n",
       "      <td>0</td>\n",
       "      <td>0</td>\n",
       "    </tr>\n",
       "    <tr>\n",
       "      <th>1</th>\n",
       "      <td>Next Friday (2000)</td>\n",
       "      <td>0</td>\n",
       "      <td>0</td>\n",
       "      <td>0</td>\n",
       "      <td>0</td>\n",
       "      <td>0</td>\n",
       "      <td>0</td>\n",
       "      <td>0</td>\n",
       "      <td>0</td>\n",
       "      <td>0</td>\n",
       "      <td>...</td>\n",
       "      <td>0</td>\n",
       "      <td>0</td>\n",
       "      <td>0</td>\n",
       "      <td>0</td>\n",
       "      <td>0</td>\n",
       "      <td>0</td>\n",
       "      <td>0</td>\n",
       "      <td>0</td>\n",
       "      <td>0</td>\n",
       "      <td>0</td>\n",
       "    </tr>\n",
       "    <tr>\n",
       "      <th>2</th>\n",
       "      <td>Supernova (2000)</td>\n",
       "      <td>0</td>\n",
       "      <td>0</td>\n",
       "      <td>0</td>\n",
       "      <td>0</td>\n",
       "      <td>0</td>\n",
       "      <td>0</td>\n",
       "      <td>0</td>\n",
       "      <td>0</td>\n",
       "      <td>0</td>\n",
       "      <td>...</td>\n",
       "      <td>0</td>\n",
       "      <td>1</td>\n",
       "      <td>0</td>\n",
       "      <td>0</td>\n",
       "      <td>0</td>\n",
       "      <td>0</td>\n",
       "      <td>0</td>\n",
       "      <td>0</td>\n",
       "      <td>0</td>\n",
       "      <td>0</td>\n",
       "    </tr>\n",
       "    <tr>\n",
       "      <th>3</th>\n",
       "      <td>Down to You (2000)</td>\n",
       "      <td>0</td>\n",
       "      <td>0</td>\n",
       "      <td>0</td>\n",
       "      <td>0</td>\n",
       "      <td>0</td>\n",
       "      <td>0</td>\n",
       "      <td>0</td>\n",
       "      <td>0</td>\n",
       "      <td>0</td>\n",
       "      <td>...</td>\n",
       "      <td>0</td>\n",
       "      <td>0</td>\n",
       "      <td>0</td>\n",
       "      <td>0</td>\n",
       "      <td>0</td>\n",
       "      <td>0</td>\n",
       "      <td>0</td>\n",
       "      <td>0</td>\n",
       "      <td>0</td>\n",
       "      <td>0</td>\n",
       "    </tr>\n",
       "    <tr>\n",
       "      <th>4</th>\n",
       "      <td>Scream 3 (2000)</td>\n",
       "      <td>1</td>\n",
       "      <td>0</td>\n",
       "      <td>0</td>\n",
       "      <td>0</td>\n",
       "      <td>0</td>\n",
       "      <td>0</td>\n",
       "      <td>0</td>\n",
       "      <td>0</td>\n",
       "      <td>0</td>\n",
       "      <td>...</td>\n",
       "      <td>0</td>\n",
       "      <td>0</td>\n",
       "      <td>0</td>\n",
       "      <td>0</td>\n",
       "      <td>1</td>\n",
       "      <td>0</td>\n",
       "      <td>0</td>\n",
       "      <td>1</td>\n",
       "      <td>1</td>\n",
       "      <td>1</td>\n",
       "    </tr>\n",
       "  </tbody>\n",
       "</table>\n",
       "<p>5 rows × 444 columns</p>\n",
       "</div>"
      ],
      "text/plain": [
       "                title  user0  user1  user2  user3  user4  user5  user6  user7  \\\n",
       "0   Yards, The (2000)      0      0      0      0      0      0      0      0   \n",
       "1  Next Friday (2000)      0      0      0      0      0      0      0      0   \n",
       "2    Supernova (2000)      0      0      0      0      0      0      0      0   \n",
       "3  Down to You (2000)      0      0      0      0      0      0      0      0   \n",
       "4     Scream 3 (2000)      1      0      0      0      0      0      0      0   \n",
       "\n",
       "   user8  ...  user433  user434  user435  user436  user437  user438  user439  \\\n",
       "0      0  ...        0        0        0        0        0        0        0   \n",
       "1      0  ...        0        0        0        0        0        0        0   \n",
       "2      0  ...        0        1        0        0        0        0        0   \n",
       "3      0  ...        0        0        0        0        0        0        0   \n",
       "4      0  ...        0        0        0        0        1        0        0   \n",
       "\n",
       "   user440  user441  user442  \n",
       "0        0        0        0  \n",
       "1        0        0        0  \n",
       "2        0        0        0  \n",
       "3        0        0        0  \n",
       "4        1        1        1  \n",
       "\n",
       "[5 rows x 444 columns]"
      ]
     },
     "execution_count": 48,
     "metadata": {},
     "output_type": "execute_result"
    }
   ],
   "source": [
    "R.head()"
   ]
  },
  {
   "cell_type": "code",
   "execution_count": 49,
   "id": "73a66c9d",
   "metadata": {
    "scrolled": false
   },
   "outputs": [
    {
     "data": {
      "text/html": [
       "<div>\n",
       "<style scoped>\n",
       "    .dataframe tbody tr th:only-of-type {\n",
       "        vertical-align: middle;\n",
       "    }\n",
       "\n",
       "    .dataframe tbody tr th {\n",
       "        vertical-align: top;\n",
       "    }\n",
       "\n",
       "    .dataframe thead th {\n",
       "        text-align: right;\n",
       "    }\n",
       "</style>\n",
       "<table border=\"1\" class=\"dataframe\">\n",
       "  <thead>\n",
       "    <tr style=\"text-align: right;\">\n",
       "      <th></th>\n",
       "      <th>w_0</th>\n",
       "      <th>w_1</th>\n",
       "      <th>w_2</th>\n",
       "      <th>w_3</th>\n",
       "      <th>w_4</th>\n",
       "      <th>w_5</th>\n",
       "      <th>w_6</th>\n",
       "      <th>w_7</th>\n",
       "      <th>w_8</th>\n",
       "      <th>w_9</th>\n",
       "    </tr>\n",
       "  </thead>\n",
       "  <tbody>\n",
       "    <tr>\n",
       "      <th>user0</th>\n",
       "      <td>0.479351</td>\n",
       "      <td>0.476700</td>\n",
       "      <td>0.487941</td>\n",
       "      <td>-0.119804</td>\n",
       "      <td>-0.328640</td>\n",
       "      <td>0.423246</td>\n",
       "      <td>-0.395107</td>\n",
       "      <td>-0.238308</td>\n",
       "      <td>-0.361220</td>\n",
       "      <td>-0.180903</td>\n",
       "    </tr>\n",
       "    <tr>\n",
       "      <th>user1</th>\n",
       "      <td>0.036048</td>\n",
       "      <td>-0.381909</td>\n",
       "      <td>0.295857</td>\n",
       "      <td>-0.258234</td>\n",
       "      <td>0.286056</td>\n",
       "      <td>-0.181466</td>\n",
       "      <td>0.293492</td>\n",
       "      <td>0.464079</td>\n",
       "      <td>0.458329</td>\n",
       "      <td>-0.236350</td>\n",
       "    </tr>\n",
       "    <tr>\n",
       "      <th>user2</th>\n",
       "      <td>0.055616</td>\n",
       "      <td>-0.058994</td>\n",
       "      <td>-0.245282</td>\n",
       "      <td>0.109871</td>\n",
       "      <td>0.397099</td>\n",
       "      <td>0.363621</td>\n",
       "      <td>0.145976</td>\n",
       "      <td>0.363758</td>\n",
       "      <td>0.018468</td>\n",
       "      <td>0.174881</td>\n",
       "    </tr>\n",
       "    <tr>\n",
       "      <th>user3</th>\n",
       "      <td>0.455081</td>\n",
       "      <td>0.159874</td>\n",
       "      <td>-0.452741</td>\n",
       "      <td>0.235758</td>\n",
       "      <td>0.238673</td>\n",
       "      <td>-0.277246</td>\n",
       "      <td>0.367087</td>\n",
       "      <td>-0.327934</td>\n",
       "      <td>0.288718</td>\n",
       "      <td>0.370415</td>\n",
       "    </tr>\n",
       "    <tr>\n",
       "      <th>user4</th>\n",
       "      <td>-0.017157</td>\n",
       "      <td>-0.439861</td>\n",
       "      <td>-0.337667</td>\n",
       "      <td>0.183689</td>\n",
       "      <td>-0.458436</td>\n",
       "      <td>0.171238</td>\n",
       "      <td>-0.360265</td>\n",
       "      <td>0.111018</td>\n",
       "      <td>0.048738</td>\n",
       "      <td>-0.439863</td>\n",
       "    </tr>\n",
       "  </tbody>\n",
       "</table>\n",
       "</div>"
      ],
      "text/plain": [
       "            w_0       w_1       w_2       w_3       w_4       w_5       w_6  \\\n",
       "user0  0.479351  0.476700  0.487941 -0.119804 -0.328640  0.423246 -0.395107   \n",
       "user1  0.036048 -0.381909  0.295857 -0.258234  0.286056 -0.181466  0.293492   \n",
       "user2  0.055616 -0.058994 -0.245282  0.109871  0.397099  0.363621  0.145976   \n",
       "user3  0.455081  0.159874 -0.452741  0.235758  0.238673 -0.277246  0.367087   \n",
       "user4 -0.017157 -0.439861 -0.337667  0.183689 -0.458436  0.171238 -0.360265   \n",
       "\n",
       "            w_7       w_8       w_9  \n",
       "user0 -0.238308 -0.361220 -0.180903  \n",
       "user1  0.464079  0.458329 -0.236350  \n",
       "user2  0.363758  0.018468  0.174881  \n",
       "user3 -0.327934  0.288718  0.370415  \n",
       "user4  0.111018  0.048738 -0.439863  "
      ]
     },
     "execution_count": 49,
     "metadata": {},
     "output_type": "execute_result"
    }
   ],
   "source": [
    "W.head()"
   ]
  },
  {
   "cell_type": "code",
   "execution_count": 50,
   "id": "0b131a10",
   "metadata": {
    "scrolled": false
   },
   "outputs": [
    {
     "data": {
      "text/html": [
       "<div>\n",
       "<style scoped>\n",
       "    .dataframe tbody tr th:only-of-type {\n",
       "        vertical-align: middle;\n",
       "    }\n",
       "\n",
       "    .dataframe tbody tr th {\n",
       "        vertical-align: top;\n",
       "    }\n",
       "\n",
       "    .dataframe thead th {\n",
       "        text-align: right;\n",
       "    }\n",
       "</style>\n",
       "<table border=\"1\" class=\"dataframe\">\n",
       "  <thead>\n",
       "    <tr style=\"text-align: right;\">\n",
       "      <th></th>\n",
       "      <th>title</th>\n",
       "      <th>feature_0</th>\n",
       "      <th>feature_1</th>\n",
       "      <th>feature_2</th>\n",
       "      <th>feature_3</th>\n",
       "      <th>feature_4</th>\n",
       "      <th>feature_5</th>\n",
       "      <th>feature_6</th>\n",
       "      <th>feature_7</th>\n",
       "      <th>feature_8</th>\n",
       "      <th>feature_9</th>\n",
       "    </tr>\n",
       "  </thead>\n",
       "  <tbody>\n",
       "    <tr>\n",
       "      <th>0</th>\n",
       "      <td>Yards, The (2000)</td>\n",
       "      <td>-0.033287</td>\n",
       "      <td>1.166746</td>\n",
       "      <td>-0.506490</td>\n",
       "      <td>0.125096</td>\n",
       "      <td>1.534760</td>\n",
       "      <td>-0.210136</td>\n",
       "      <td>0.104176</td>\n",
       "      <td>-0.349303</td>\n",
       "      <td>0.753852</td>\n",
       "      <td>-0.208109</td>\n",
       "    </tr>\n",
       "    <tr>\n",
       "      <th>1</th>\n",
       "      <td>Next Friday (2000)</td>\n",
       "      <td>0.404058</td>\n",
       "      <td>2.266492</td>\n",
       "      <td>-0.742824</td>\n",
       "      <td>1.374039</td>\n",
       "      <td>1.145788</td>\n",
       "      <td>0.381959</td>\n",
       "      <td>-0.447495</td>\n",
       "      <td>-1.038103</td>\n",
       "      <td>-2.332266</td>\n",
       "      <td>-2.343191</td>\n",
       "    </tr>\n",
       "    <tr>\n",
       "      <th>2</th>\n",
       "      <td>Supernova (2000)</td>\n",
       "      <td>0.023478</td>\n",
       "      <td>0.428102</td>\n",
       "      <td>-0.426381</td>\n",
       "      <td>0.107177</td>\n",
       "      <td>0.484193</td>\n",
       "      <td>-0.969298</td>\n",
       "      <td>-0.748563</td>\n",
       "      <td>-0.293784</td>\n",
       "      <td>0.439730</td>\n",
       "      <td>1.823422</td>\n",
       "    </tr>\n",
       "    <tr>\n",
       "      <th>3</th>\n",
       "      <td>Down to You (2000)</td>\n",
       "      <td>0.511281</td>\n",
       "      <td>1.518797</td>\n",
       "      <td>1.602747</td>\n",
       "      <td>-2.296399</td>\n",
       "      <td>-0.570383</td>\n",
       "      <td>-0.480868</td>\n",
       "      <td>-0.662502</td>\n",
       "      <td>1.965215</td>\n",
       "      <td>0.495176</td>\n",
       "      <td>1.044845</td>\n",
       "    </tr>\n",
       "    <tr>\n",
       "      <th>4</th>\n",
       "      <td>Scream 3 (2000)</td>\n",
       "      <td>-2.056514</td>\n",
       "      <td>0.458517</td>\n",
       "      <td>0.619371</td>\n",
       "      <td>-0.138456</td>\n",
       "      <td>0.011926</td>\n",
       "      <td>-0.282415</td>\n",
       "      <td>0.027502</td>\n",
       "      <td>-0.535465</td>\n",
       "      <td>0.661082</td>\n",
       "      <td>0.195084</td>\n",
       "    </tr>\n",
       "  </tbody>\n",
       "</table>\n",
       "</div>"
      ],
      "text/plain": [
       "                title  feature_0  feature_1  feature_2  feature_3  feature_4  \\\n",
       "0   Yards, The (2000)  -0.033287   1.166746  -0.506490   0.125096   1.534760   \n",
       "1  Next Friday (2000)   0.404058   2.266492  -0.742824   1.374039   1.145788   \n",
       "2    Supernova (2000)   0.023478   0.428102  -0.426381   0.107177   0.484193   \n",
       "3  Down to You (2000)   0.511281   1.518797   1.602747  -2.296399  -0.570383   \n",
       "4     Scream 3 (2000)  -2.056514   0.458517   0.619371  -0.138456   0.011926   \n",
       "\n",
       "   feature_5  feature_6  feature_7  feature_8  feature_9  \n",
       "0  -0.210136   0.104176  -0.349303   0.753852  -0.208109  \n",
       "1   0.381959  -0.447495  -1.038103  -2.332266  -2.343191  \n",
       "2  -0.969298  -0.748563  -0.293784   0.439730   1.823422  \n",
       "3  -0.480868  -0.662502   1.965215   0.495176   1.044845  \n",
       "4  -0.282415   0.027502  -0.535465   0.661082   0.195084  "
      ]
     },
     "execution_count": 50,
     "metadata": {},
     "output_type": "execute_result"
    }
   ],
   "source": [
    "X.head()"
   ]
  },
  {
   "cell_type": "code",
   "execution_count": 51,
   "id": "81311ced",
   "metadata": {},
   "outputs": [
    {
     "data": {
      "text/html": [
       "<div>\n",
       "<style scoped>\n",
       "    .dataframe tbody tr th:only-of-type {\n",
       "        vertical-align: middle;\n",
       "    }\n",
       "\n",
       "    .dataframe tbody tr th {\n",
       "        vertical-align: top;\n",
       "    }\n",
       "\n",
       "    .dataframe thead th {\n",
       "        text-align: right;\n",
       "    }\n",
       "</style>\n",
       "<table border=\"1\" class=\"dataframe\">\n",
       "  <thead>\n",
       "    <tr style=\"text-align: right;\">\n",
       "      <th></th>\n",
       "      <th>b_movie0</th>\n",
       "      <th>b_movie1</th>\n",
       "      <th>b_movie2</th>\n",
       "      <th>b_movie3</th>\n",
       "      <th>b_movie4</th>\n",
       "      <th>b_movie5</th>\n",
       "      <th>b_movie6</th>\n",
       "      <th>b_movie7</th>\n",
       "      <th>b_movie8</th>\n",
       "      <th>b_movie9</th>\n",
       "      <th>...</th>\n",
       "      <th>b_movie433</th>\n",
       "      <th>b_movie434</th>\n",
       "      <th>b_movie435</th>\n",
       "      <th>b_movie436</th>\n",
       "      <th>b_movie437</th>\n",
       "      <th>b_movie438</th>\n",
       "      <th>b_movie439</th>\n",
       "      <th>b_movie440</th>\n",
       "      <th>b_movie441</th>\n",
       "      <th>b_movie442</th>\n",
       "    </tr>\n",
       "  </thead>\n",
       "  <tbody>\n",
       "    <tr>\n",
       "      <th>0</th>\n",
       "      <td>0.236095</td>\n",
       "      <td>0.356534</td>\n",
       "      <td>0.1282</td>\n",
       "      <td>0.315502</td>\n",
       "      <td>0.236364</td>\n",
       "      <td>-0.229178</td>\n",
       "      <td>-0.144015</td>\n",
       "      <td>0.075727</td>\n",
       "      <td>-0.370031</td>\n",
       "      <td>-0.021354</td>\n",
       "      <td>...</td>\n",
       "      <td>-0.176575</td>\n",
       "      <td>-0.473329</td>\n",
       "      <td>-0.361718</td>\n",
       "      <td>0.084787</td>\n",
       "      <td>0.429559</td>\n",
       "      <td>-0.405086</td>\n",
       "      <td>0.45839</td>\n",
       "      <td>0.412608</td>\n",
       "      <td>-0.36224</td>\n",
       "      <td>-0.32014</td>\n",
       "    </tr>\n",
       "  </tbody>\n",
       "</table>\n",
       "<p>1 rows × 443 columns</p>\n",
       "</div>"
      ],
      "text/plain": [
       "   b_movie0  b_movie1  b_movie2  b_movie3  b_movie4  b_movie5  b_movie6  \\\n",
       "0  0.236095  0.356534    0.1282  0.315502  0.236364 -0.229178 -0.144015   \n",
       "\n",
       "   b_movie7  b_movie8  b_movie9  ...  b_movie433  b_movie434  b_movie435  \\\n",
       "0  0.075727 -0.370031 -0.021354  ...   -0.176575   -0.473329   -0.361718   \n",
       "\n",
       "   b_movie436  b_movie437  b_movie438  b_movie439  b_movie440  b_movie441  \\\n",
       "0    0.084787    0.429559   -0.405086     0.45839    0.412608    -0.36224   \n",
       "\n",
       "   b_movie442  \n",
       "0    -0.32014  \n",
       "\n",
       "[1 rows x 443 columns]"
      ]
     },
     "execution_count": 51,
     "metadata": {},
     "output_type": "execute_result"
    }
   ],
   "source": [
    "b.head()"
   ]
  },
  {
   "cell_type": "code",
   "execution_count": 52,
   "id": "d7d23e95",
   "metadata": {
    "scrolled": true
   },
   "outputs": [
    {
     "name": "stdout",
     "output_type": "stream",
     "text": [
      "<class 'pandas.core.frame.DataFrame'>\n",
      "RangeIndex: 4778 entries, 0 to 4777\n",
      "Columns: 444 entries, title to user442\n",
      "dtypes: float64(443), object(1)\n",
      "memory usage: 16.2+ MB\n"
     ]
    }
   ],
   "source": [
    "Y.info()"
   ]
  },
  {
   "cell_type": "code",
   "execution_count": 53,
   "id": "9a875c78",
   "metadata": {
    "scrolled": true
   },
   "outputs": [
    {
     "name": "stdout",
     "output_type": "stream",
     "text": [
      "<class 'pandas.core.frame.DataFrame'>\n",
      "RangeIndex: 4778 entries, 0 to 4777\n",
      "Columns: 444 entries, title to user442\n",
      "dtypes: int64(443), object(1)\n",
      "memory usage: 16.2+ MB\n"
     ]
    }
   ],
   "source": [
    "R.info()"
   ]
  },
  {
   "cell_type": "code",
   "execution_count": 54,
   "id": "cdae55fa",
   "metadata": {
    "scrolled": true
   },
   "outputs": [
    {
     "name": "stdout",
     "output_type": "stream",
     "text": [
      "<class 'pandas.core.frame.DataFrame'>\n",
      "Index: 443 entries, user0 to user442\n",
      "Data columns (total 10 columns):\n",
      " #   Column  Non-Null Count  Dtype  \n",
      "---  ------  --------------  -----  \n",
      " 0   w_0     443 non-null    float64\n",
      " 1   w_1     443 non-null    float64\n",
      " 2   w_2     443 non-null    float64\n",
      " 3   w_3     443 non-null    float64\n",
      " 4   w_4     443 non-null    float64\n",
      " 5   w_5     443 non-null    float64\n",
      " 6   w_6     443 non-null    float64\n",
      " 7   w_7     443 non-null    float64\n",
      " 8   w_8     443 non-null    float64\n",
      " 9   w_9     443 non-null    float64\n",
      "dtypes: float64(10)\n",
      "memory usage: 38.1+ KB\n"
     ]
    }
   ],
   "source": [
    "W.info()"
   ]
  },
  {
   "cell_type": "code",
   "execution_count": 55,
   "id": "bb05d4ab",
   "metadata": {
    "scrolled": true
   },
   "outputs": [
    {
     "name": "stdout",
     "output_type": "stream",
     "text": [
      "<class 'pandas.core.frame.DataFrame'>\n",
      "RangeIndex: 4778 entries, 0 to 4777\n",
      "Data columns (total 11 columns):\n",
      " #   Column     Non-Null Count  Dtype  \n",
      "---  ------     --------------  -----  \n",
      " 0   title      4778 non-null   object \n",
      " 1   feature_0  4778 non-null   float64\n",
      " 2   feature_1  4778 non-null   float64\n",
      " 3   feature_2  4778 non-null   float64\n",
      " 4   feature_3  4778 non-null   float64\n",
      " 5   feature_4  4778 non-null   float64\n",
      " 6   feature_5  4778 non-null   float64\n",
      " 7   feature_6  4778 non-null   float64\n",
      " 8   feature_7  4778 non-null   float64\n",
      " 9   feature_8  4778 non-null   float64\n",
      " 10  feature_9  4778 non-null   float64\n",
      "dtypes: float64(10), object(1)\n",
      "memory usage: 410.7+ KB\n"
     ]
    }
   ],
   "source": [
    "X.info()"
   ]
  },
  {
   "cell_type": "code",
   "execution_count": 56,
   "id": "9eeeaaf4",
   "metadata": {},
   "outputs": [
    {
     "name": "stdout",
     "output_type": "stream",
     "text": [
      "<class 'pandas.core.frame.DataFrame'>\n",
      "RangeIndex: 1 entries, 0 to 0\n",
      "Columns: 443 entries, b_movie0 to b_movie442\n",
      "dtypes: float64(443)\n",
      "memory usage: 3.6 KB\n"
     ]
    }
   ],
   "source": [
    "b.info()"
   ]
  },
  {
   "cell_type": "code",
   "execution_count": 57,
   "id": "3e75d2f9",
   "metadata": {
    "scrolled": true
   },
   "outputs": [
    {
     "name": "stdout",
     "output_type": "stream",
     "text": [
      "Total Number of possbile Ratings: 2116654\n",
      "Total Number of given Ratings: 39253\n",
      "Precentage of 1s: 1.8544835386416485 %\n"
     ]
    }
   ],
   "source": [
    "print(f'Total Number of possbile Ratings: {R.iloc[:, 1:].shape[0] * R.iloc[:, 1:].shape[1]}')\n",
    "print(f'Total Number of given Ratings: {(R == 1).sum().sum()}')\n",
    "print(f'Precentage of 1s: {((R == 1).sum().sum() / (R.iloc[:, 1:].shape[0] * R.iloc[:, 1:].shape[1])) * 100} %')"
   ]
  },
  {
   "cell_type": "code",
   "execution_count": 58,
   "id": "b05e698d",
   "metadata": {},
   "outputs": [
    {
     "name": "stdout",
     "output_type": "stream",
     "text": [
      "Average rating for movie 1 : 3.400 / 5\n"
     ]
    }
   ],
   "source": [
    "print(f\"Average rating for movie 1 : {Y.iloc[0][1:].sum() / R.iloc[0][1:].sum():0.3f} / 5\" )"
   ]
  },
  {
   "cell_type": "code",
   "execution_count": 59,
   "id": "4177ecff",
   "metadata": {},
   "outputs": [
    {
     "name": "stdout",
     "output_type": "stream",
     "text": [
      "Average rating for all movies : 3.241 / 5\n"
     ]
    }
   ],
   "source": [
    "print(f\"Average rating for all movies : {np.mean(np.sum(Y.iloc[:, 1:], axis=1) / np.sum(R.iloc[:, 1:], axis=1)):0.3f} / 5\")"
   ]
  },
  {
   "cell_type": "markdown",
   "id": "6191798e",
   "metadata": {},
   "source": [
    "<a name=\"4\"></a>\n",
    "## 4 - Collaborative filtering learning algorithm \n",
    "\n",
    "Now, I will begin implementing the collaborative filtering learning\n",
    "algorithm. I will start by implementing the objective function. \n",
    "\n",
    "The collaborative filtering algorithm in the setting of movie\n",
    "recommendations considers a set of $n$-dimensional parameter vectors\n",
    "$\\mathbf{x}^{(0)},...,\\mathbf{x}^{(n_m-1)}$, $\\mathbf{w}^{(0)},...,\\mathbf{w}^{(n_u-1)}$ and $b^{(0)},...,b^{(n_u-1)}$, where the\n",
    "model predicts the rating for movie $i$ by user $j$ as\n",
    "$y^{(i,j)} = \\mathbf{w}^{(j)}\\cdot \\mathbf{x}^{(i)} + b^{(j)}$ . Given a dataset that consists of\n",
    "a set of ratings produced by some users on some movies, you wish to\n",
    "learn the parameter vectors $\\mathbf{x}^{(0)},...,\\mathbf{x}^{(n_m-1)},\n",
    "\\mathbf{w}^{(0)},...,\\mathbf{w}^{(n_u-1)}$  and $b^{(0)},...,b^{(n_u-1)}$ that produce the best fit (minimizes\n",
    "the squared error).\n",
    "\n",
    "I will create the code in cofiCostFunc to compute the cost\n",
    "function for collaborative filtering. "
   ]
  },
  {
   "cell_type": "markdown",
   "id": "6c23e363",
   "metadata": {},
   "source": [
    "<a name=\"4.1\"></a>\n",
    "### 4.1 Collaborative filtering cost function\n",
    "\n",
    "The collaborative filtering cost function is given by\n",
    "$$J({\\mathbf{x}^{(0)},...,\\mathbf{x}^{(n_m-1)},\\mathbf{w}^{(0)},b^{(0)},...,\\mathbf{w}^{(n_u-1)},b^{(n_u-1)}})= \\left[ \\frac{1}{2}\\sum_{(i,j):r(i,j)=1}(\\mathbf{w}^{(j)} \\cdot \\mathbf{x}^{(i)} + b^{(j)} - y^{(i,j)})^2 \\right]\n",
    "+ \\underbrace{\\left[\n",
    "\\frac{\\lambda}{2}\n",
    "\\sum_{j=0}^{n_u-1}\\sum_{k=0}^{n-1}(\\mathbf{w}^{(j)}_k)^2\n",
    "+ \\frac{\\lambda}{2}\\sum_{i=0}^{n_m-1}\\sum_{k=0}^{n-1}(\\mathbf{x}_k^{(i)})^2\n",
    "\\right]}_{regularization}\n",
    "\\tag{1}$$\n",
    "The first summation in (1) is \"for all $i$, $j$ where $r(i,j)$ equals $1$\" and could be written:\n",
    "\n",
    "$$\n",
    "= \\left[ \\frac{1}{2}\\sum_{j=0}^{n_u-1} \\sum_{i=0}^{n_m-1}r(i,j)*(\\mathbf{w}^{(j)} \\cdot \\mathbf{x}^{(i)} + b^{(j)} - y^{(i,j)})^2 \\right]\n",
    "+\\text{regularization}\n",
    "$$\n",
    "\n",
    "I want now to write cofiCostFunc (collaborative filtering cost function) to return this cost."
   ]
  },
  {
   "cell_type": "code",
   "execution_count": 60,
   "id": "a72e2939",
   "metadata": {},
   "outputs": [],
   "source": [
    "X_feed = X.drop('title', axis=1).to_numpy()\n",
    "W_feed = W.to_numpy()\n",
    "b_feed = b.to_numpy()\n",
    "Y_feed = Y.drop('title', axis=1).to_numpy()\n",
    "R_feed = R.drop('title', axis=1).to_numpy()"
   ]
  },
  {
   "cell_type": "code",
   "execution_count": 61,
   "id": "9732297f",
   "metadata": {},
   "outputs": [],
   "source": [
    "def cofi_cost_func(X, W, b, Y, R, lambda_):\n",
    "    \"\"\"\n",
    "    Returns the cost for the content-based filtering\n",
    "    Args:\n",
    "      X (ndarray (num_movies,num_features)): matrix of item features\n",
    "      W (ndarray (num_users,num_features)) : matrix of user parameters\n",
    "      b (ndarray (1, num_users)            : vector of user parameters\n",
    "      Y (ndarray (num_movies,num_users)    : matrix of user ratings of movies\n",
    "      R (ndarray (num_movies,num_users)    : matrix, where R(i, j) = 1 if the i-th movies was rated by the j-th user\n",
    "      lambda_ (float): regularization parameter\n",
    "    Returns:\n",
    "      J (float) : Cost\n",
    "    \"\"\"\n",
    "    nm, nu = Y.shape\n",
    "    J = 0\n",
    "    for j in range(nu):\n",
    "        for i in range(nm):\n",
    "            cost_inner_sum = R[i, j] * ((((np.matmul(W[j], X[i])) + b[0, j]) - Y[i, j]) ** 2)\n",
    "            J += cost_inner_sum\n",
    "    J /= 2\n",
    "    J += (lambda_/2) * (np.sum(np.square(W)) + np.sum(np.square(X)))\n",
    "    return J"
   ]
  },
  {
   "cell_type": "code",
   "execution_count": 62,
   "id": "80a3b8a8",
   "metadata": {},
   "outputs": [
    {
     "name": "stdout",
     "output_type": "stream",
     "text": [
      "Cost: 13.67\n"
     ]
    }
   ],
   "source": [
    "# Reduce the data set size so that this runs faster\n",
    "num_users_r = 4\n",
    "num_movies_r = 5 \n",
    "num_features_r = 3\n",
    "\n",
    "X_r = X_feed[:num_movies_r, :num_features_r]\n",
    "W_r = W_feed[:num_users_r,  :num_features_r]\n",
    "b_r = b_feed[0, :num_users_r].reshape(1,-1)\n",
    "Y_r = Y_feed[:num_movies_r, :num_users_r]\n",
    "R_r = R_feed[:num_movies_r, :num_users_r]\n",
    "\n",
    "# Evaluate cost function\n",
    "J = cofi_cost_func(X_r, W_r, b_r, Y_r, R_r, 0);\n",
    "print(f\"Cost: {J:0.2f}\")"
   ]
  },
  {
   "cell_type": "code",
   "execution_count": 63,
   "id": "e1e550d6",
   "metadata": {},
   "outputs": [
    {
     "name": "stdout",
     "output_type": "stream",
     "text": [
      "Cost (with regularization): 28.09\n"
     ]
    }
   ],
   "source": [
    "# Evaluate cost function with regularization \n",
    "J = cofi_cost_func(X_r, W_r, b_r, Y_r, R_r, 1.5);\n",
    "print(f\"Cost (with regularization): {J:0.2f}\")"
   ]
  },
  {
   "cell_type": "markdown",
   "id": "4cebaa36",
   "metadata": {},
   "source": [
    "**Vectorized Implementation**\n",
    "\n",
    "It is important to create a vectorized implementation to compute $J$, since it will later be called many times during optimization."
   ]
  },
  {
   "cell_type": "code",
   "execution_count": 64,
   "id": "85ba3f34",
   "metadata": {},
   "outputs": [],
   "source": [
    "def cofi_cost_func_v(X, W, b, Y, R, lambda_):\n",
    "    \"\"\"\n",
    "    Returns the cost for the content-based filtering\n",
    "    Vectorized for speed. Uses tensorflow operations to be compatible with custom training loop.\n",
    "    Args:\n",
    "      X (ndarray (num_movies,num_features)): matrix of item features\n",
    "      W (ndarray (num_users,num_features)) : matrix of user parameters\n",
    "      b (ndarray (1, num_users)            : vector of user parameters\n",
    "      Y (ndarray (num_movies,num_users)    : matrix of user ratings of movies\n",
    "      R (ndarray (num_movies,num_users)    : matrix, where R(i, j) = 1 if the i-th movies was rated by the j-th user\n",
    "      lambda_ (float): regularization parameter\n",
    "    Returns:\n",
    "      J (float) : Cost\n",
    "    \"\"\"\n",
    "    j = (tf.linalg.matmul(X, tf.transpose(W)) + b - Y)*R\n",
    "    J = 0.5 * tf.reduce_sum(j**2) + (lambda_/2) * (tf.reduce_sum(X**2) + tf.reduce_sum(W**2))\n",
    "    return J"
   ]
  },
  {
   "cell_type": "code",
   "execution_count": 65,
   "id": "d7f33834",
   "metadata": {},
   "outputs": [
    {
     "name": "stdout",
     "output_type": "stream",
     "text": [
      "Cost: 13.67\n",
      "Cost (with regularization): 28.09\n"
     ]
    }
   ],
   "source": [
    "# Evaluate cost function\n",
    "J = cofi_cost_func_v(X_r, W_r, b_r, Y_r, R_r, 0);\n",
    "print(f\"Cost: {J:0.2f}\")\n",
    "\n",
    "# Evaluate cost function with regularization \n",
    "J = cofi_cost_func_v(X_r, W_r, b_r, Y_r, R_r, 1.5);\n",
    "print(f\"Cost (with regularization): {J:0.2f}\")"
   ]
  },
  {
   "cell_type": "markdown",
   "id": "793089cc",
   "metadata": {},
   "source": [
    "<a name=\"5\"></a>\n",
    "## 5 - Learning movie recommendations \n",
    "\n",
    "After I have finished implementing the collaborative filtering cost\n",
    "function, I can start training my algorithm to make\n",
    "movie recommendations. \n",
    "\n",
    "In the cell below, I can enter my own movie choices. The algorithm will then make recommendations for me!"
   ]
  },
  {
   "cell_type": "code",
   "execution_count": 66,
   "id": "3061e7ba",
   "metadata": {},
   "outputs": [
    {
     "data": {
      "text/html": [
       "<div>\n",
       "<style scoped>\n",
       "    .dataframe tbody tr th:only-of-type {\n",
       "        vertical-align: middle;\n",
       "    }\n",
       "\n",
       "    .dataframe tbody tr th {\n",
       "        vertical-align: top;\n",
       "    }\n",
       "\n",
       "    .dataframe thead th {\n",
       "        text-align: right;\n",
       "    }\n",
       "</style>\n",
       "<table border=\"1\" class=\"dataframe\">\n",
       "  <thead>\n",
       "    <tr style=\"text-align: right;\">\n",
       "      <th></th>\n",
       "      <th>title</th>\n",
       "    </tr>\n",
       "  </thead>\n",
       "  <tbody>\n",
       "    <tr>\n",
       "      <th>0</th>\n",
       "      <td>Yards, The (2000)</td>\n",
       "    </tr>\n",
       "    <tr>\n",
       "      <th>1</th>\n",
       "      <td>Next Friday (2000)</td>\n",
       "    </tr>\n",
       "    <tr>\n",
       "      <th>2</th>\n",
       "      <td>Supernova (2000)</td>\n",
       "    </tr>\n",
       "    <tr>\n",
       "      <th>3</th>\n",
       "      <td>Down to You (2000)</td>\n",
       "    </tr>\n",
       "    <tr>\n",
       "      <th>4</th>\n",
       "      <td>Scream 3 (2000)</td>\n",
       "    </tr>\n",
       "    <tr>\n",
       "      <th>...</th>\n",
       "      <td>...</td>\n",
       "    </tr>\n",
       "    <tr>\n",
       "      <th>4773</th>\n",
       "      <td>Jon Stewart Has Left the Building (2015)</td>\n",
       "    </tr>\n",
       "    <tr>\n",
       "      <th>4774</th>\n",
       "      <td>Black Butler: Book of the Atlantic (2017)</td>\n",
       "    </tr>\n",
       "    <tr>\n",
       "      <th>4775</th>\n",
       "      <td>No Game No Life: Zero (2017)</td>\n",
       "    </tr>\n",
       "    <tr>\n",
       "      <th>4776</th>\n",
       "      <td>Flint (2017)</td>\n",
       "    </tr>\n",
       "    <tr>\n",
       "      <th>4777</th>\n",
       "      <td>Bungo Stray Dogs: Dead Apple (2018)</td>\n",
       "    </tr>\n",
       "  </tbody>\n",
       "</table>\n",
       "<p>4778 rows × 1 columns</p>\n",
       "</div>"
      ],
      "text/plain": [
       "                                          title\n",
       "0                             Yards, The (2000)\n",
       "1                            Next Friday (2000)\n",
       "2                              Supernova (2000)\n",
       "3                            Down to You (2000)\n",
       "4                               Scream 3 (2000)\n",
       "...                                         ...\n",
       "4773   Jon Stewart Has Left the Building (2015)\n",
       "4774  Black Butler: Book of the Atlantic (2017)\n",
       "4775               No Game No Life: Zero (2017)\n",
       "4776                               Flint (2017)\n",
       "4777        Bungo Stray Dogs: Dead Apple (2018)\n",
       "\n",
       "[4778 rows x 1 columns]"
      ]
     },
     "execution_count": 66,
     "metadata": {},
     "output_type": "execute_result"
    }
   ],
   "source": [
    "movie_titles"
   ]
  },
  {
   "cell_type": "code",
   "execution_count": 67,
   "id": "889b182d",
   "metadata": {},
   "outputs": [
    {
     "name": "stdout",
     "output_type": "stream",
     "text": [
      "\n",
      "New user ratings:\n",
      "\n",
      "Rated 5.0 for  Shrek (2001)\n",
      "Rated 5.0 for  Harry Potter and the Sorcerer's Stone (a.k.a. Harry Potter and the Philosopher's Stone) (2001)\n",
      "Rated 2.0 for  Amelie (Fabuleux destin d'Amélie Poulain, Le) (2001)\n",
      "Rated 5.0 for  Harry Potter and the Chamber of Secrets (2002)\n",
      "Rated 5.0 for  Pirates of the Caribbean: The Curse of the Black Pearl (2003)\n",
      "Rated 5.0 for  Lord of the Rings: The Return of the King, The (2003)\n",
      "Rated 3.0 for  Eternal Sunshine of the Spotless Mind (2004)\n",
      "Rated 5.0 for  Incredibles, The (2004)\n",
      "Rated 2.0 for  Persuasion (2007)\n",
      "Rated 5.0 for  Toy Story 3 (2010)\n",
      "Rated 3.0 for  Inception (2010)\n",
      "Rated 1.0 for  Louis Theroux: Law & Disorder (2008)\n",
      "Rated 1.0 for  Nothing to Declare (Rien à déclarer) (2010)\n"
     ]
    }
   ],
   "source": [
    "my_ratings = np.zeros(len(movie_titles))          #  Initialize my ratings\n",
    "\n",
    "# Checking the file small_movie_list.csv for id of each movie in our dataset\n",
    "# For example, Toy Story 3 (2010) has ID 2700, so to rate it \"5\", I can set\n",
    "my_ratings[2700] = 5 \n",
    "\n",
    "#Or assume I did not enjoy Persuasion (2007), I can set\n",
    "my_ratings[2609] = 2;\n",
    "\n",
    "# I have selected a few movies I liked / did not like and the ratings I\n",
    "# gave are as follows:\n",
    "my_ratings[929]  = 5   # Lord of the Rings: The Return of the King, The\n",
    "my_ratings[246]  = 5   # Shrek (2001)\n",
    "my_ratings[2716] = 3   # Inception\n",
    "my_ratings[1150] = 5   # Incredibles, The (2004)\n",
    "my_ratings[382]  = 2   # Amelie (Fabuleux destin d'Amélie Poulain, Le)\n",
    "my_ratings[366]  = 5   # Harry Potter and the Sorcerer's Stone (a.k.a. Harry Potter and the Philosopher's Stone) (2001)\n",
    "my_ratings[622]  = 5   # Harry Potter and the Chamber of Secrets (2002)\n",
    "my_ratings[988]  = 3   # Eternal Sunshine of the Spotless Mind (2004)\n",
    "my_ratings[2925] = 1   # Louis Theroux: Law & Disorder (2008)\n",
    "my_ratings[2937] = 1   # Nothing to Declare (Rien à déclarer)\n",
    "my_ratings[793]  = 5   # Pirates of the Caribbean: The Curse of the Black Pearl (2003)\n",
    "my_rated = [i for i in range(len(my_ratings)) if my_ratings[i] > 0]\n",
    "\n",
    "print('\\nNew user ratings:\\n')\n",
    "for i in range(len(my_ratings)):\n",
    "    if my_ratings[i] > 0 :\n",
    "        print(f'Rated {my_ratings[i]} for  {movie_titles.loc[i,\"title\"]}');"
   ]
  },
  {
   "cell_type": "markdown",
   "id": "bafe74f9",
   "metadata": {},
   "source": [
    "Now, let's add these reviews to $Y$ and $R$ and normalize the ratings."
   ]
  },
  {
   "cell_type": "code",
   "execution_count": 68,
   "id": "bb35f545",
   "metadata": {},
   "outputs": [],
   "source": [
    "# Add new user ratings to Y \n",
    "Y_feed = np.c_[my_ratings, Y_feed]\n",
    "\n",
    "# Add new user indicator matrix to R\n",
    "R_feed = np.c_[(my_ratings != 0).astype(int), R_feed]"
   ]
  },
  {
   "cell_type": "code",
   "execution_count": 69,
   "id": "695fe854",
   "metadata": {},
   "outputs": [],
   "source": [
    "def normalizeRatings(Y, R):\n",
    "    \"\"\"\n",
    "    Preprocess data by subtracting mean rating for every movie (every row).\n",
    "    Only include real ratings R(i,j)=1.\n",
    "    [Ynorm, Ymean] = normalizeRatings(Y, R) normalized Y so that each movie\n",
    "    has a rating of 0 on average. Unrated movies then have a mean rating (0)\n",
    "    Returns the mean rating in Ymean.\n",
    "    \"\"\"\n",
    "    Ymean = (np.sum(Y*R,axis=1)/(np.sum(R, axis=1)+1e-12)).reshape(-1,1)\n",
    "    Ynorm = Y - np.multiply(Ymean, R) \n",
    "    return(Ynorm, Ymean)"
   ]
  },
  {
   "cell_type": "code",
   "execution_count": 70,
   "id": "4ac4356d",
   "metadata": {},
   "outputs": [],
   "source": [
    "Ynorm, Ymean = normalizeRatings(Y_feed, R_feed)"
   ]
  },
  {
   "cell_type": "markdown",
   "id": "c4af3534",
   "metadata": {},
   "source": [
    "Let's prepare to train the model. Initialize the parameters and select the Adam optimizer."
   ]
  },
  {
   "cell_type": "code",
   "execution_count": 71,
   "id": "6f26bf3d",
   "metadata": {},
   "outputs": [
    {
     "data": {
      "text/plain": [
       "(4778, 444)"
      ]
     },
     "execution_count": 71,
     "metadata": {},
     "output_type": "execute_result"
    }
   ],
   "source": [
    "Y.shape"
   ]
  },
  {
   "cell_type": "code",
   "execution_count": 72,
   "id": "53bab71f",
   "metadata": {},
   "outputs": [
    {
     "name": "stderr",
     "output_type": "stream",
     "text": [
      "WARNING:absl:At this time, the v2.11+ optimizer `tf.keras.optimizers.Adam` runs slowly on M1/M2 Macs, please use the legacy Keras optimizer instead, located at `tf.keras.optimizers.legacy.Adam`.\n"
     ]
    }
   ],
   "source": [
    "#  Useful Values\n",
    "num_movies, num_users = Y_feed.shape\n",
    "num_features = 100\n",
    "\n",
    "# Setting Initial Parameters (W, X), using tf.Variable to track these variables\n",
    "tf.random.set_seed(1234) # for consistent results\n",
    "W = tf.Variable(tf.random.normal((num_users,  num_features),dtype=tf.float64),  name='W')\n",
    "X = tf.Variable(tf.random.normal((num_movies, num_features),dtype=tf.float64),  name='X')\n",
    "b = tf.Variable(tf.random.normal((1,          num_users),   dtype=tf.float64),  name='b')\n",
    "\n",
    "# Instantiate an optimizer.\n",
    "optimizer = Adam(learning_rate=1e-1)"
   ]
  },
  {
   "cell_type": "code",
   "execution_count": 73,
   "id": "79f8e83b",
   "metadata": {},
   "outputs": [
    {
     "data": {
      "text/plain": [
       "array([[0, 0, 0, ..., 0, 0, 0],\n",
       "       [0, 0, 0, ..., 0, 0, 0],\n",
       "       [0, 0, 0, ..., 0, 0, 0],\n",
       "       ...,\n",
       "       [0, 0, 0, ..., 0, 0, 0],\n",
       "       [0, 0, 0, ..., 0, 0, 0],\n",
       "       [0, 0, 0, ..., 0, 0, 0]])"
      ]
     },
     "execution_count": 73,
     "metadata": {},
     "output_type": "execute_result"
    }
   ],
   "source": [
    "R_feed"
   ]
  },
  {
   "cell_type": "markdown",
   "id": "016bd194",
   "metadata": {},
   "source": [
    "Let's now train the collaborative filtering model. This will learn the parameters $\\mathbf{X}$, $\\mathbf{W}$, and $\\mathbf{b}$. "
   ]
  },
  {
   "cell_type": "markdown",
   "id": "542b8b20",
   "metadata": {},
   "source": [
    "The operations involved in learning $w$, $b$, and $x$ simultaneously Consequently, I will use a custom training loop.\n",
    "\n",
    "The steps of gradient descent contains.\n",
    "- repeat until convergence:\n",
    "    - compute forward pass\n",
    "    - compute the derivatives of the loss relative to parameters\n",
    "    - update the parameters using the learning rate and the computed derivatives \n",
    "    \n",
    "As TensorFlow has the marvelous capability of calculating the derivatives for me, within the `tf.GradientTape()` section, operations on Tensorflow Variables are tracked. When `tape.gradient()` is later called, it will return the gradient of the loss relative to the tracked variables. The gradients can then be applied to the parameters using an optimizer. "
   ]
  },
  {
   "cell_type": "code",
   "execution_count": 74,
   "id": "8ab8bc59",
   "metadata": {},
   "outputs": [
    {
     "name": "stdout",
     "output_type": "stream",
     "text": [
      "Training loss at iteration 0: 2321191.3\n",
      "Training loss at iteration 20: 136169.3\n",
      "Training loss at iteration 40: 51863.7\n",
      "Training loss at iteration 60: 24599.0\n",
      "Training loss at iteration 80: 13630.6\n",
      "Training loss at iteration 100: 8487.7\n",
      "Training loss at iteration 120: 5807.8\n",
      "Training loss at iteration 140: 4311.6\n",
      "Training loss at iteration 160: 3435.3\n",
      "Training loss at iteration 180: 2902.1\n"
     ]
    }
   ],
   "source": [
    "iterations = 200\n",
    "lambda_ = 1\n",
    "for iter in range(iterations):\n",
    "    # Use TensorFlow’s GradientTape\n",
    "    # to record the operations used to compute the cost \n",
    "    with tf.GradientTape() as tape:\n",
    "\n",
    "        # Compute the cost (forward pass included in cost)\n",
    "        cost_value = cofi_cost_func_v(X, W, b, Ynorm, R_feed, lambda_)\n",
    "\n",
    "    # Use the gradient tape to automatically retrieve\n",
    "    # the gradients of the trainable variables with respect to the loss\n",
    "    grads = tape.gradient( cost_value, [X,W,b] )\n",
    "\n",
    "    # Run one step of gradient descent by updating\n",
    "    # the value of the variables to minimize the loss.\n",
    "    optimizer.apply_gradients( zip(grads, [X,W,b]) )\n",
    "\n",
    "    # Log periodically.\n",
    "    if iter % 20 == 0:\n",
    "        print(f\"Training loss at iteration {iter}: {cost_value:0.1f}\")"
   ]
  },
  {
   "cell_type": "markdown",
   "id": "9e9d450e",
   "metadata": {},
   "source": [
    "<a name=\"6\"></a>\n",
    "## 6 - Recommendations\n",
    "Below, I compute the ratings for all the movies and users and display the movies that are recommended. These are based on the movies and ratings entered as `my_ratings[]` above. To predict the rating of movie $i$ for user $j$, I compute $\\mathbf{w}^{(j)} \\cdot \\mathbf{x}^{(i)} + b^{(j)}$. This can be computed for all ratings using matrix multiplication."
   ]
  },
  {
   "cell_type": "code",
   "execution_count": 75,
   "id": "eec9905f",
   "metadata": {},
   "outputs": [
    {
     "name": "stdout",
     "output_type": "stream",
     "text": [
      "Predicting rating 4.49 for movie My Sassy Girl (Yeopgijeogin geunyeo) (2001)\n",
      "Predicting rating 4.48 for movie Martin Lawrence Live: Runteldat (2002)\n",
      "Predicting rating 4.48 for movie Memento (2000)\n",
      "Predicting rating 4.47 for movie Delirium (2014)\n",
      "Predicting rating 4.47 for movie Laggies (2014)\n",
      "Predicting rating 4.47 for movie One I Love, The (2014)\n",
      "Predicting rating 4.46 for movie Particle Fever (2013)\n",
      "Predicting rating 4.45 for movie Eichmann (2007)\n",
      "Predicting rating 4.45 for movie Battle Royale 2: Requiem (Batoru rowaiaru II: Chinkonka) (2003)\n",
      "Predicting rating 4.45 for movie Into the Abyss (2011)\n",
      "Predicting rating 4.45 for movie Son of the Bride (Hijo de la novia, El) (2001)\n",
      "Predicting rating 4.44 for movie Rivers and Tides (2001)\n",
      "Predicting rating 4.44 for movie George Carlin: It's Bad for Ya! (2008)\n",
      "Predicting rating 4.44 for movie Loving Vincent (2017)\n",
      "Predicting rating 4.44 for movie PK (2014)\n",
      "Predicting rating 4.44 for movie Sisters (Syostry) (2001)\n",
      "Predicting rating 4.44 for movie What Men Talk About (2010)\n",
      "Predicting rating 4.44 for movie George Carlin: Life Is Worth Losing (2005)\n",
      "Predicting rating 4.44 for movie Empties (2007)\n",
      "Predicting rating 4.44 for movie Alesha Popovich and Tugarin the Dragon (2004)\n",
      "Predicting rating 4.44 for movie Front of the Class (2008)\n",
      "Predicting rating 4.44 for movie Human (2015)\n",
      "Predicting rating 4.44 for movie Garden of Words, The (Koto no ha no niwa) (2013)\n",
      "Predicting rating 4.44 for movie Presto (2008)\n",
      "Predicting rating 4.43 for movie My Love (2006)\n",
      "Predicting rating 4.43 for movie Radio Day (2008)\n",
      "Predicting rating 4.43 for movie Bitter Lake (2015)\n",
      "Predicting rating 4.43 for movie Harry Potter and the Deathly Hallows: Part 1 (2010)\n",
      "Predicting rating 4.43 for movie L.A. Slasher (2015)\n",
      "Predicting rating 4.43 for movie 61* (2001)\n",
      "Predicting rating 4.43 for movie Che: Part One (2008)\n",
      "Predicting rating 4.43 for movie Che: Part Two (2008)\n",
      "Predicting rating 4.43 for movie SORI: Voice from the Heart (2016)\n",
      "Predicting rating 4.43 for movie Battle For Sevastopol (2015)\n",
      "Predicting rating 4.43 for movie Wonder Woman (2009)\n",
      "Predicting rating 4.43 for movie Satin Rouge (2002)\n",
      "Predicting rating 4.43 for movie Strictly Sexual (2008)\n",
      "Predicting rating 4.43 for movie Dragons: Gift of the Night Fury (2011)\n",
      "Predicting rating 4.43 for movie Peaceful Warrior (2006)\n",
      "Predicting rating 4.43 for movie Blue Planet II (2017)\n",
      "Predicting rating 4.43 for movie Zeitgeist: Moving Forward (2011)\n",
      "Predicting rating 4.43 for movie Watermark (2014)\n",
      "Predicting rating 4.43 for movie Nasu: Summer in Andalusia (2003)\n",
      "Predicting rating 4.43 for movie Tickling Giants (2017)\n",
      "Predicting rating 4.42 for movie Rain (2001)\n",
      "Predicting rating 4.42 for movie Kung Fu Panda: Secrets of the Masters (2011)\n",
      "Predicting rating 4.42 for movie Indignation (2016)\n",
      "Predicting rating 4.42 for movie Tom Segura: Completely Normal (2014)\n",
      "Predicting rating 4.42 for movie Tom Segura: Mostly Stories (2016)\n",
      "Predicting rating 4.42 for movie Won't You Be My Neighbor? (2018)\n",
      "Predicting rating 4.42 for movie I Am Not Your Negro (2017)\n",
      "Predicting rating 4.42 for movie Eva (2011)\n",
      "Predicting rating 4.42 for movie Act of Killing, The (2012)\n",
      "Predicting rating 4.42 for movie Paper Birds (Pájaros de papel) (2010)\n",
      "Predicting rating 4.42 for movie Who Killed Chea Vichea? (2010)\n",
      "Predicting rating 4.42 for movie Bloodsucking Bastards (2015)\n",
      "Predicting rating 4.42 for movie Cherish (2002)\n",
      "Predicting rating 4.42 for movie Seve (2014)\n",
      "Predicting rating 4.42 for movie Superman/Batman: Public Enemies (2009)\n",
      "Predicting rating 4.42 for movie A Detective Story (2003)\n",
      "Predicting rating 4.42 for movie Justice League: Doom (2012) \n",
      "Predicting rating 4.42 for movie Faster (2010)\n",
      "Predicting rating 4.42 for movie Into the Forest of Fireflies' Light (2011)\n",
      "Predicting rating 4.42 for movie Two Family House (2000)\n",
      "Predicting rating 4.42 for movie Calcium Kid, The (2004)\n",
      "Predicting rating 4.42 for movie The Editor (2015)\n",
      "Predicting rating 4.42 for movie Scooby-Doo! and the Samurai Sword (2009)\n",
      "Predicting rating 4.42 for movie Happy Feet Two (2011)\n",
      "Predicting rating 4.42 for movie My Life as McDull (Mak dau goo si) (2001)\n",
      "Predicting rating 4.42 for movie Hellbenders (2012)\n",
      "Predicting rating 4.42 for movie My Left Eye Sees Ghosts (Ngo joh aan gin diy gwai) (2002)\n",
      "Predicting rating 4.42 for movie All Yours (2016)\n",
      "Predicting rating 4.42 for movie Asterix and the Vikings (Astérix et les Vikings) (2006)\n",
      "Predicting rating 4.42 for movie Ice Age: The Great Egg-Scapade (2016)\n",
      "Predicting rating 4.42 for movie A Perfect Day (2015)\n",
      "Predicting rating 4.42 for movie Chinese Puzzle (Casse-tête chinois) (2013)\n",
      "Predicting rating 4.42 for movie Craig Ferguson: I'm Here To Help (2013)\n",
      "Predicting rating 4.42 for movie Ooops! Noah is Gone... (2015)\n",
      "Predicting rating 4.42 for movie Scooby-Doo! and the Loch Ness Monster (2004)\n",
      "Predicting rating 4.42 for movie Breed, The (2006)\n",
      "Predicting rating 4.42 for movie Miss Nobody (2010)\n",
      "Predicting rating 4.42 for movie Hunting Elephants (2013)\n",
      "Predicting rating 4.42 for movie National Lampoon's Bag Boy (2007)\n",
      "Predicting rating 4.42 for movie Big Top Scooby-Doo! (2012)\n",
      "Predicting rating 4.42 for movie Snowflake, the White Gorilla (2011)\n",
      "Predicting rating 4.42 for movie Cosmic Scrat-tastrophe (2015)\n",
      "Predicting rating 4.42 for movie Stuart Little 3: Call of the Wild (2005)\n",
      "Predicting rating 4.42 for movie Boy Eats Girl (2005)\n",
      "Predicting rating 4.42 for movie Guy X (2005)\n",
      "Predicting rating 4.42 for movie Spellbound (2011)\n",
      "Predicting rating 4.42 for movie Get Low (2009)\n",
      "Predicting rating 4.42 for movie Jump In! (2007)\n",
      "Predicting rating 4.42 for movie On the Other Side of the Tracks (De l'autre côté du périph) (2012)\n",
      "Predicting rating 4.42 for movie Valet, The (La doublure) (2006)\n",
      "Predicting rating 4.42 for movie Watching the Detectives (2007)\n",
      "Predicting rating 4.42 for movie Tom and Jerry: Shiver Me Whiskers (2006)\n",
      "Predicting rating 4.42 for movie What Love Is (2007)\n",
      "Predicting rating 4.42 for movie Ghost Graduation (2012)\n",
      "Predicting rating 4.42 for movie Unicorn City (2012)\n",
      "Predicting rating 4.42 for movie Scooby-Doo! Abracadabra-Doo (2010)\n",
      "Predicting rating 4.42 for movie Ugly Duckling and Me!, The (2006)\n",
      "Predicting rating 4.42 for movie Tom and Jerry: A Nutcracker Tale (2007)\n",
      "Predicting rating 4.42 for movie Lumberjack Man (2015)\n",
      "Predicting rating 4.42 for movie Go for Zucker! (Alles auf Zucker!) (2004)\n",
      "Predicting rating 4.42 for movie Scooby-Doo! Curse of the Lake Monster (2010)\n",
      "Predicting rating 4.42 for movie The Eye: Infinity (2005)\n",
      "Predicting rating 4.42 for movie The Fox and the Hound 2 (2006)\n",
      "Predicting rating 4.42 for movie Saving Santa (2013)\n",
      "Predicting rating 4.42 for movie Saving Face (2004)\n",
      "Predicting rating 4.42 for movie Garfield's Pet Force (2009)\n",
      "Predicting rating 4.42 for movie The Jinx: The Life and Deaths of Robert Durst (2015)\n",
      "Predicting rating 4.42 for movie Bossa Nova (2000)\n",
      "Predicting rating 4.42 for movie Palindromes (2004)\n",
      "Predicting rating 4.42 for movie Enter the Void (2009)\n",
      "Predicting rating 4.42 for movie 9/11 (2002)\n",
      "Predicting rating 4.42 for movie Tyler Perry's I Can Do Bad All by Myself (2009)\n",
      "Predicting rating 4.42 for movie Deathgasm (2015)\n",
      "Predicting rating 4.42 for movie Very Potter Sequel, A (2010)\n",
      "Predicting rating 4.41 for movie Black Tar Heroin: The Dark End of the Street (2000)\n",
      "Predicting rating 4.41 for movie Love Exposure (Ai No Mukidashi) (2008)\n",
      "Predicting rating 4.41 for movie Mother (Madeo) (2009)\n",
      "Predicting rating 4.41 for movie Only Lovers Left Alive (2013)\n",
      "Predicting rating 4.41 for movie Tokyo Tribe (2014)\n",
      "Predicting rating 4.41 for movie Holy Motors (2012)\n",
      "Predicting rating 4.41 for movie Open Hearts (Elsker dig for evigt) (2002)\n",
      "Predicting rating 4.41 for movie Idiots and Angels (2008)\n",
      "Predicting rating 4.41 for movie Ex Drummer (2007)\n",
      "Predicting rating 4.41 for movie Nine Lives of Tomas Katz, The (2000)\n",
      "Predicting rating 4.41 for movie Max Manus (2008)\n",
      "Predicting rating 4.41 for movie Colourful (Karafuru) (2010)\n",
      "Predicting rating 4.41 for movie Dylan Moran: Monster (2004)\n",
      "Predicting rating 4.40 for movie I'm the One That I Want (2000)\n",
      "Predicting rating 4.40 for movie The Girl with All the Gifts (2016)\n",
      "Predicting rating 4.40 for movie Buzzard (2015)\n",
      "Predicting rating 4.39 for movie Raise Your Voice (2004)\n",
      "Predicting rating 4.39 for movie English Vinglish (2012)\n",
      "Predicting rating 4.36 for movie Black Mirror: White Christmas (2014)\n",
      "Predicting rating 4.36 for movie Lord of the Rings: The Two Towers, The (2002)\n",
      "Predicting rating 4.35 for movie 'Salem's Lot (2004)\n",
      "Predicting rating 4.34 for movie Casino Royale (2006)\n",
      "Predicting rating 4.34 for movie Odd Life of Timothy Green, The (2012)\n",
      "Predicting rating 4.29 for movie Finding Nemo (2003)\n",
      "Predicting rating 4.25 for movie The Pacific (2010)\n",
      "\n",
      "\n",
      "Original vs Predicted ratings:\n",
      "\n",
      "Original 5.0, Predicted 4.90 for Shrek (2001)\n",
      "Original 5.0, Predicted 4.84 for Harry Potter and the Sorcerer's Stone (a.k.a. Harry Potter and the Philosopher's Stone) (2001)\n",
      "Original 2.0, Predicted 2.13 for Amelie (Fabuleux destin d'Amélie Poulain, Le) (2001)\n",
      "Original 5.0, Predicted 4.88 for Harry Potter and the Chamber of Secrets (2002)\n",
      "Original 5.0, Predicted 4.87 for Pirates of the Caribbean: The Curse of the Black Pearl (2003)\n",
      "Original 5.0, Predicted 4.89 for Lord of the Rings: The Return of the King, The (2003)\n",
      "Original 3.0, Predicted 3.00 for Eternal Sunshine of the Spotless Mind (2004)\n",
      "Original 5.0, Predicted 4.90 for Incredibles, The (2004)\n",
      "Original 2.0, Predicted 2.11 for Persuasion (2007)\n",
      "Original 5.0, Predicted 4.80 for Toy Story 3 (2010)\n",
      "Original 3.0, Predicted 3.00 for Inception (2010)\n",
      "Original 1.0, Predicted 1.41 for Louis Theroux: Law & Disorder (2008)\n",
      "Original 1.0, Predicted 1.26 for Nothing to Declare (Rien à déclarer) (2010)\n"
     ]
    }
   ],
   "source": [
    "# Make a prediction using trained weights and biases\n",
    "p = np.matmul(X.numpy(), np.transpose(W.numpy())) + b.numpy()\n",
    "\n",
    "#restore the mean\n",
    "pm = p + Ymean\n",
    "\n",
    "my_predictions = pm[:,0]\n",
    "\n",
    "# sort predictions\n",
    "ix = tf.argsort(my_predictions, direction='DESCENDING')\n",
    "\n",
    "sugges_pred = []\n",
    "for i in range(150):\n",
    "    j = ix[i]\n",
    "    j = j.numpy()\n",
    "    if j not in my_rated:\n",
    "        print(f\"Predicting rating {my_predictions[j]:0.2f} for movie {movie_titles['title'][j]}\")\n",
    "        sugges_pred.append([movie_titles['title'][j], my_predictions[j]])\n",
    "\n",
    "print('\\n\\nOriginal vs Predicted ratings:\\n')\n",
    "for i in range(len(my_ratings)):\n",
    "    if my_ratings[i] > 0:\n",
    "        print(f\"Original {my_ratings[i]}, Predicted {my_predictions[i]:0.2f} for {movie_titles['title'][i]}\")"
   ]
  },
  {
   "cell_type": "markdown",
   "id": "880e4371",
   "metadata": {},
   "source": [
    "In practice, additional information can be utilized to enhance our predictions. Above, the predicted ratings for the first few hundred movies lie in a small range. I can augment the above by selecting from those top movies, movies that have high average ratings and movies with more than 20 ratings."
   ]
  },
  {
   "cell_type": "code",
   "execution_count": 76,
   "id": "34ad76f4",
   "metadata": {},
   "outputs": [],
   "source": [
    "suggest_df = pd.DataFrame(data=sugges_pred, columns=['title', 'prediction'])"
   ]
  },
  {
   "cell_type": "code",
   "execution_count": 78,
   "id": "51d56518",
   "metadata": {},
   "outputs": [],
   "source": [
    "movie_titles = pd.read_csv('small_movie_list.csv', usecols=[2, 3])"
   ]
  },
  {
   "cell_type": "code",
   "execution_count": 79,
   "id": "c9298da1",
   "metadata": {
    "scrolled": true
   },
   "outputs": [],
   "source": [
    "final_suggestions = pd.merge(suggest_df, movie_titles, on='title')"
   ]
  },
  {
   "cell_type": "code",
   "execution_count": 80,
   "id": "b4f9cd13",
   "metadata": {
    "scrolled": true
   },
   "outputs": [
    {
     "data": {
      "text/html": [
       "<div>\n",
       "<style scoped>\n",
       "    .dataframe tbody tr th:only-of-type {\n",
       "        vertical-align: middle;\n",
       "    }\n",
       "\n",
       "    .dataframe tbody tr th {\n",
       "        vertical-align: top;\n",
       "    }\n",
       "\n",
       "    .dataframe thead th {\n",
       "        text-align: right;\n",
       "    }\n",
       "</style>\n",
       "<table border=\"1\" class=\"dataframe\">\n",
       "  <thead>\n",
       "    <tr style=\"text-align: right;\">\n",
       "      <th></th>\n",
       "      <th>title</th>\n",
       "      <th>prediction</th>\n",
       "      <th>number of ratings</th>\n",
       "    </tr>\n",
       "  </thead>\n",
       "  <tbody>\n",
       "    <tr>\n",
       "      <th>2</th>\n",
       "      <td>Memento (2000)</td>\n",
       "      <td>4.477798</td>\n",
       "      <td>159</td>\n",
       "    </tr>\n",
       "    <tr>\n",
       "      <th>27</th>\n",
       "      <td>Harry Potter and the Deathly Hallows: Part 1 (...</td>\n",
       "      <td>4.434171</td>\n",
       "      <td>47</td>\n",
       "    </tr>\n",
       "    <tr>\n",
       "      <th>137</th>\n",
       "      <td>Lord of the Rings: The Two Towers, The (2002)</td>\n",
       "      <td>4.357304</td>\n",
       "      <td>188</td>\n",
       "    </tr>\n",
       "    <tr>\n",
       "      <th>139</th>\n",
       "      <td>Casino Royale (2006)</td>\n",
       "      <td>4.344999</td>\n",
       "      <td>81</td>\n",
       "    </tr>\n",
       "    <tr>\n",
       "      <th>141</th>\n",
       "      <td>Finding Nemo (2003)</td>\n",
       "      <td>4.289676</td>\n",
       "      <td>141</td>\n",
       "    </tr>\n",
       "  </tbody>\n",
       "</table>\n",
       "</div>"
      ],
      "text/plain": [
       "                                                 title  prediction  \\\n",
       "2                                       Memento (2000)    4.477798   \n",
       "27   Harry Potter and the Deathly Hallows: Part 1 (...    4.434171   \n",
       "137      Lord of the Rings: The Two Towers, The (2002)    4.357304   \n",
       "139                               Casino Royale (2006)    4.344999   \n",
       "141                                Finding Nemo (2003)    4.289676   \n",
       "\n",
       "     number of ratings  \n",
       "2                  159  \n",
       "27                  47  \n",
       "137                188  \n",
       "139                 81  \n",
       "141                141  "
      ]
     },
     "execution_count": 80,
     "metadata": {},
     "output_type": "execute_result"
    }
   ],
   "source": [
    "final_suggestions[final_suggestions['number of ratings'] > 20].sort_values('prediction', ascending=False)"
   ]
  },
  {
   "attachments": {},
   "cell_type": "markdown",
   "id": "8f143e00",
   "metadata": {},
   "source": [
    "**Conclusion: As can be shown, suggestions are completely relevant to my rating as a user. This can be embedded into a block and later on can be assessed using API for practical applications.**"
   ]
  }
 ],
 "metadata": {
  "kernelspec": {
   "display_name": "Python 3 (ipykernel)",
   "language": "python",
   "name": "python3"
  },
  "language_info": {
   "codemirror_mode": {
    "name": "ipython",
    "version": 3
   },
   "file_extension": ".py",
   "mimetype": "text/x-python",
   "name": "python",
   "nbconvert_exporter": "python",
   "pygments_lexer": "ipython3",
   "version": "3.11.4"
  }
 },
 "nbformat": 4,
 "nbformat_minor": 5
}
